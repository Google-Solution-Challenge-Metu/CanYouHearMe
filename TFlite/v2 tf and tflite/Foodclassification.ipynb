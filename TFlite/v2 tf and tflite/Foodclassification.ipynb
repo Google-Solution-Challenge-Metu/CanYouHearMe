{
  "nbformat": 4,
  "nbformat_minor": 0,
  "metadata": {
    "colab": {
      "provenance": []
    },
    "kernelspec": {
      "name": "python3",
      "display_name": "Python 3"
    },
    "language_info": {
      "name": "python"
    },
    "accelerator": "GPU",
    "gpuClass": "standard"
  },
  "cells": [
    {
      "cell_type": "code",
      "source": [
        "import tensorflow as tf\n",
        "import numpy as np\n",
        "import pandas as pd\n",
        "import tensorflow_datasets as tfds\n",
        "import sys\n",
        "import matplotlib.pyplot as plt\n",
        "\n",
        "\n",
        "import tensorflow_hub as hub\n",
        "from sklearn.metrics import accuracy_score\n",
        "from tensorflow.keras.layers.experimental import preprocessing\n",
        "from tensorflow.keras import Model\n",
        "from tensorflow.keras.layers import Conv2D, MaxPool2D, Flatten, Dropout, Dense, MaxPooling2D, BatchNormalization, Input, Activation\n",
        "from tensorflow.keras.preprocessing.image import ImageDataGenerator"
      ],
      "metadata": {
        "id": "aJVrVHFY50Oc"
      },
      "execution_count": 2,
      "outputs": []
    },
    {
      "cell_type": "code",
      "execution_count": 2,
      "metadata": {
        "id": "t3MIu9FT36w5"
      },
      "outputs": [],
      "source": [
        "DATA_DIR = \"../input/food41/images\"\n",
        "\n",
        "TRAIN_DATA_DIR = \"drive/MyDrive/Google developer/Dataset2/training\"\n",
        "TEST_DATA_DIR = \"drive/MyDrive/Google developer/Dataset2/validation\"\n",
        "VAL_DATA_DIR = \"drive/MyDrive/Google developer/Dataset2/evaluation\"\n",
        "BATCH_SIZE=32\n",
        "OUTPUT_FIGURE_DIR = \"./\"\n",
        "\n",
        "def train_val_generators(TRAIN_DIR, TEST_DIR,VAL_DIR, NUM_BATCHES):\n",
        "    \"\"\"\n",
        "\n",
        "    :param DATA_DIR: Directory of the datasets was taken from (string)\n",
        "    :param SPLIT_SIZE: Split size of test set. (float)\n",
        "    :param NUM_BATCHES: Amount of batch size\n",
        "    :return:\n",
        "    \"\"\"\n",
        "    \n",
        "    \n",
        "    train_generator = tf.keras.preprocessing.image_dataset_from_directory(directory=TRAIN_DIR,\n",
        "                                                  batch_size=NUM_BATCHES,\n",
        "                                                  label_mode='categorical',\n",
        "                                                  image_size=(224, 224),\n",
        "                                                    \n",
        "\n",
        "    )\n",
        "\n",
        "    test_generator = tf.keras.preprocessing.image_dataset_from_directory(directory=TEST_DIR,\n",
        "                                                       batch_size=NUM_BATCHES,\n",
        "                                                       label_mode='categorical',\n",
        "                                                       image_size=(224, 224))\n",
        "\n",
        "    validation_generator = tf.keras.preprocessing.image_dataset_from_directory(directory=VAL_DIR,\n",
        "                                                       batch_size=NUM_BATCHES,\n",
        "                                                       label_mode='categorical',\n",
        "                                                       image_size=(224, 224))\n",
        "\n",
        "    return train_generator,test_generator, validation_generator"
      ]
    },
    {
      "cell_type": "code",
      "source": [
        "train_ds, test_ds, val_ds = train_val_generators(TRAIN_DATA_DIR, TEST_DATA_DIR,VAL_DATA_DIR, BATCH_SIZE)"
      ],
      "metadata": {
        "colab": {
          "base_uri": "https://localhost:8080/"
        },
        "id": "G_AXKPLUpe8a",
        "outputId": "59bf38b3-05dc-4045-9265-c1a9b5a1f7f7"
      },
      "execution_count": 3,
      "outputs": [
        {
          "output_type": "stream",
          "name": "stdout",
          "text": [
            "Found 9883 files belonging to 11 classes.\n",
            "Found 3430 files belonging to 11 classes.\n",
            "Found 3347 files belonging to 11 classes.\n"
          ]
        }
      ]
    },
    {
      "cell_type": "code",
      "source": [
        "OPTIMIZER = 'adam'\n",
        "LOSS = 'categorical_crossentropy'\n",
        "METRICS = ['accuracy']"
      ],
      "metadata": {
        "id": "xWFTnBbs5yo0"
      },
      "execution_count": 4,
      "outputs": []
    },
    {
      "cell_type": "code",
      "source": [
        "def plot_accuracy(history, output_dir, model_name):\n",
        "    \n",
        "    plt.plot(history.history['accuracy'],label='train accuracy')\n",
        "    plt.plot(history.history['val_accuracy'],label='validation accuracy')\n",
        "    plt.title('Model accuracy')\n",
        "    plt.ylabel('Accuracy')\n",
        "    plt.xlabel('Epoch')\n",
        "    plt.legend(loc='best')\n",
        "    plt.savefig(f\"{output_dir}/accuracy_{model_name}\")\n",
        "    plt.show()\n",
        "    \n",
        "def plot_loss(history, output_dir, model_name):\n",
        "    \n",
        "    plt.plot(history.history['loss'],label=\"train loss\")\n",
        "    plt.plot(history.history['val_loss'],label=\"validation loss\")\n",
        "    plt.title('Model loss')\n",
        "    plt.ylabel('Loss')\n",
        "    plt.xlabel('Epoch')\n",
        "    plt.legend(loc='best')\n",
        "    plt.savefig(f\"{output_dir}/loss_{model_name}\")\n",
        "    plt.show()"
      ],
      "metadata": {
        "id": "tw_XGbWr5Pby"
      },
      "execution_count": 5,
      "outputs": []
    },
    {
      "cell_type": "code",
      "source": [
        "data_augmentation = tf.keras.Sequential([\n",
        "    preprocessing.RandomFlip('horizontal'),\n",
        "     preprocessing.RandomRotation(0.2),\n",
        "  preprocessing.RandomZoom(0.2),\n",
        "  preprocessing.RandomHeight(0.2),\n",
        "  preprocessing.RandomWidth(0.2),\n",
        "], name='data_augmentation')"
      ],
      "metadata": {
        "id": "ggIrjmZi6jL6"
      },
      "execution_count": 6,
      "outputs": []
    },
    {
      "cell_type": "code",
      "source": [
        "# Set checkpoint path\n",
        "\n",
        "checkpoint_path = \"ten_percent_model_checkpoints_weights/checkpoint.ckpt\"\n",
        "\n",
        "# Create a ModelCheckpoint callback that saves the model's weights only\n",
        "checkpoint_callback = tf.keras.callbacks.ModelCheckpoint(filepath=checkpoint_path,\n",
        "                                                         save_weights_only=True,\n",
        "                                                         save_best_only=False,\n",
        "                                                         save_freq='epoch', # Save for every epochs\n",
        "                                                         verbose=1\n",
        "                                                         )"
      ],
      "metadata": {
        "id": "63NipbGHJw0O"
      },
      "execution_count": 7,
      "outputs": []
    },
    {
      "cell_type": "code",
      "source": [
        "# Setup input shape and base model\n",
        "input_shape = (224, 224, 3)\n",
        "\n",
        "base_model = tf.keras.applications.EfficientNetB7(include_top=False)\n",
        "base_model.trainable =  False\n",
        "\n",
        "# Create inputt layers\n",
        "inputs = tf.keras.Input(shape=input_shape)\n",
        "\n",
        "# Data augmentation\n",
        "x = data_augmentation(inputs)\n",
        "\n",
        "# Give base model input after augmentation \n",
        "x = base_model(x, training=False)\n",
        "\n",
        "# x = tf.keras.layers.Flatten()(x)\n",
        "x = tf.keras.layers.GlobalAveragePooling2D()(x)\n",
        "\n",
        "outputs = tf.keras.layers.Dense(11, activation='softmax')(x)\n",
        "\n",
        "model_efficientnet_1 =  Model(inputs, outputs)\n",
        "\n",
        "# Compile\n",
        "model_efficientnet_1.compile(loss='categorical_crossentropy', optimizer='adam', metrics=['accuracy'])\n",
        "\n",
        "# Summary\n",
        "model_efficientnet_1.summary()"
      ],
      "metadata": {
        "colab": {
          "base_uri": "https://localhost:8080/"
        },
        "id": "aUPCvaG3znqB",
        "outputId": "32a1f1ff-4d20-4a43-badb-af581a688a27"
      },
      "execution_count": 8,
      "outputs": [
        {
          "output_type": "stream",
          "name": "stdout",
          "text": [
            "Downloading data from https://storage.googleapis.com/keras-applications/efficientnetb7_notop.h5\n",
            "258076736/258076736 [==============================] - 8s 0us/step\n",
            "Model: \"model\"\n",
            "_________________________________________________________________\n",
            " Layer (type)                Output Shape              Param #   \n",
            "=================================================================\n",
            " input_2 (InputLayer)        [(None, 224, 224, 3)]     0         \n",
            "                                                                 \n",
            " data_augmentation (Sequenti  (None, 224, 224, 3)      0         \n",
            " al)                                                             \n",
            "                                                                 \n",
            " efficientnetb7 (Functional)  (None, None, None, 2560)  64097687 \n",
            "                                                                 \n",
            " global_average_pooling2d (G  (None, 2560)             0         \n",
            " lobalAveragePooling2D)                                          \n",
            "                                                                 \n",
            " dense (Dense)               (None, 11)                28171     \n",
            "                                                                 \n",
            "=================================================================\n",
            "Total params: 64,125,858\n",
            "Trainable params: 28,171\n",
            "Non-trainable params: 64,097,687\n",
            "_________________________________________________________________\n"
          ]
        }
      ]
    },
    {
      "cell_type": "code",
      "source": [
        "model_efficientnet_1.compile(optimizer = tf.keras.optimizers.Adam(), \n",
        "              loss = 'categorical_crossentropy', \n",
        "              metrics = ['accuracy'])\n",
        "\n",
        "csv_logger_feature_extraction = tf.keras.callbacks.CSVLogger(\"./LOG_CSV_EFFICIENTNETB7_FEATURE_EXTRACTION.log\")\n",
        "csv_logger_fine_tune = tf.keras.callbacks.CSVLogger(\"./LOG_CSV_EFFICIENTNETB7_FINE_TUNE.log\")\n",
        "\n",
        "model_efficientnet_1.summary()"
      ],
      "metadata": {
        "colab": {
          "base_uri": "https://localhost:8080/"
        },
        "id": "B3xhxvktzsnw",
        "outputId": "58e1c034-17b5-425f-8102-be0fa8a29e47"
      },
      "execution_count": 9,
      "outputs": [
        {
          "output_type": "stream",
          "name": "stdout",
          "text": [
            "Model: \"model\"\n",
            "_________________________________________________________________\n",
            " Layer (type)                Output Shape              Param #   \n",
            "=================================================================\n",
            " input_2 (InputLayer)        [(None, 224, 224, 3)]     0         \n",
            "                                                                 \n",
            " data_augmentation (Sequenti  (None, 224, 224, 3)      0         \n",
            " al)                                                             \n",
            "                                                                 \n",
            " efficientnetb7 (Functional)  (None, None, None, 2560)  64097687 \n",
            "                                                                 \n",
            " global_average_pooling2d (G  (None, 2560)             0         \n",
            " lobalAveragePooling2D)                                          \n",
            "                                                                 \n",
            " dense (Dense)               (None, 11)                28171     \n",
            "                                                                 \n",
            "=================================================================\n",
            "Total params: 64,125,858\n",
            "Trainable params: 28,171\n",
            "Non-trainable params: 64,097,687\n",
            "_________________________________________________________________\n"
          ]
        }
      ]
    },
    {
      "cell_type": "code",
      "source": [
        "initial_epochs=10\n",
        "history_model_efficientnet_1_feature_extraction = model_efficientnet_1.fit(train_ds, \n",
        "                                                                     epochs=initial_epochs,\n",
        "                                                                     validation_data=test_ds, \n",
        "                                                                     callbacks=[csv_logger_feature_extraction])"
      ],
      "metadata": {
        "colab": {
          "base_uri": "https://localhost:8080/"
        },
        "id": "FvGD1WoYzu6A",
        "outputId": "1005e25b-cab8-4857-ebba-f9be4ffcfe68"
      },
      "execution_count": 10,
      "outputs": [
        {
          "output_type": "stream",
          "name": "stdout",
          "text": [
            "Epoch 1/10\n",
            "309/309 [==============================] - 2889s 9s/step - loss: 0.8752 - accuracy: 0.7324 - val_loss: 0.5706 - val_accuracy: 0.8227\n",
            "Epoch 2/10\n",
            "309/309 [==============================] - 253s 817ms/step - loss: 0.5778 - accuracy: 0.8137 - val_loss: 0.5005 - val_accuracy: 0.8423\n",
            "Epoch 3/10\n",
            "309/309 [==============================] - 232s 750ms/step - loss: 0.5181 - accuracy: 0.8335 - val_loss: 0.4707 - val_accuracy: 0.8519\n",
            "Epoch 4/10\n",
            "309/309 [==============================] - 226s 730ms/step - loss: 0.4723 - accuracy: 0.8454 - val_loss: 0.4561 - val_accuracy: 0.8528\n",
            "Epoch 5/10\n",
            "309/309 [==============================] - 215s 693ms/step - loss: 0.4472 - accuracy: 0.8534 - val_loss: 0.4305 - val_accuracy: 0.8653\n",
            "Epoch 6/10\n",
            "309/309 [==============================] - 210s 677ms/step - loss: 0.4354 - accuracy: 0.8563 - val_loss: 0.4282 - val_accuracy: 0.8598\n",
            "Epoch 7/10\n",
            "309/309 [==============================] - 209s 676ms/step - loss: 0.4207 - accuracy: 0.8608 - val_loss: 0.4145 - val_accuracy: 0.8682\n",
            "Epoch 8/10\n",
            "309/309 [==============================] - 195s 628ms/step - loss: 0.4016 - accuracy: 0.8649 - val_loss: 0.4146 - val_accuracy: 0.8662\n",
            "Epoch 9/10\n",
            "309/309 [==============================] - 197s 635ms/step - loss: 0.3780 - accuracy: 0.8766 - val_loss: 0.4145 - val_accuracy: 0.8665\n",
            "Epoch 10/10\n",
            "309/309 [==============================] - 195s 629ms/step - loss: 0.3748 - accuracy: 0.8769 - val_loss: 0.4080 - val_accuracy: 0.8720\n"
          ]
        }
      ]
    },
    {
      "cell_type": "code",
      "source": [
        "pd.DataFrame(history_model_efficientnet_1_feature_extraction.history).plot()\n",
        "plt.title(\"Model EfficientNet Exp 1\")"
      ],
      "metadata": {
        "colab": {
          "base_uri": "https://localhost:8080/",
          "height": 298
        },
        "id": "WshX2GcurRHr",
        "outputId": "80b057da-72d8-4f53-e2b2-f0c03f240d20"
      },
      "execution_count": 11,
      "outputs": [
        {
          "output_type": "execute_result",
          "data": {
            "text/plain": [
              "Text(0.5, 1.0, 'Model EfficientNet Exp 1')"
            ]
          },
          "metadata": {},
          "execution_count": 11
        },
        {
          "output_type": "display_data",
          "data": {
            "text/plain": [
              "<Figure size 432x288 with 1 Axes>"
            ],
            "image/png": "[encoded data removed]"
          },
          "metadata": {
            "needs_background": "light"
          }
        }
      ]
    },
    {
      "cell_type": "code",
      "source": [
        "KERAS_MODEL_NAME= \"tf_food_mnist.h5\"\n",
        "model_efficientnet_1=tf.keras.models.load_model(KERAS_MODEL_NAME)"
      ],
      "metadata": {
        "id": "hFKVpcpIfDDb"
      },
      "execution_count": 5,
      "outputs": []
    },
    {
      "cell_type": "code",
      "source": [
        "model_efficientnet_1.save(KERAS_MODEL_NAME)"
      ],
      "metadata": {
        "id": "7iHyV6-pfUdr"
      },
      "execution_count": 6,
      "outputs": []
    },
    {
      "cell_type": "code",
      "source": [
        "test_loss,test_acc= model_efficientnet_1.evaluate(test_ds, verbose=2)\n",
        "print(\"Test accuracy:\",test_acc)"
      ],
      "metadata": {
        "colab": {
          "base_uri": "https://localhost:8080/",
          "height": 182
        },
        "id": "xNaKXle9f7eM",
        "outputId": "b2441788-4ad3-4d05-8374-9f0278bec2cf"
      },
      "execution_count": 7,
      "outputs": [
        {
          "output_type": "error",
          "ename": "NameError",
          "evalue": "ignored",
          "traceback": [
            "\u001b[0;31m---------------------------------------------------------------------------\u001b[0m",
            "\u001b[0;31mNameError\u001b[0m                                 Traceback (most recent call last)",
            "\u001b[0;32m<ipython-input-7-4a1b7ec02f1d>\u001b[0m in \u001b[0;36m<module>\u001b[0;34m\u001b[0m\n\u001b[0;32m----> 1\u001b[0;31m \u001b[0mtest_loss\u001b[0m\u001b[0;34m,\u001b[0m\u001b[0mtest_acc\u001b[0m\u001b[0;34m=\u001b[0m \u001b[0mmodel_efficientnet_1\u001b[0m\u001b[0;34m.\u001b[0m\u001b[0mevaluate\u001b[0m\u001b[0;34m(\u001b[0m\u001b[0mtest_ds\u001b[0m\u001b[0;34m,\u001b[0m \u001b[0mverbose\u001b[0m\u001b[0;34m=\u001b[0m\u001b[0;36m2\u001b[0m\u001b[0;34m)\u001b[0m\u001b[0;34m\u001b[0m\u001b[0;34m\u001b[0m\u001b[0m\n\u001b[0m\u001b[1;32m      2\u001b[0m \u001b[0mprint\u001b[0m\u001b[0;34m(\u001b[0m\u001b[0;34m\"Test accuracy:\"\u001b[0m\u001b[0;34m,\u001b[0m\u001b[0mtest_acc\u001b[0m\u001b[0;34m)\u001b[0m\u001b[0;34m\u001b[0m\u001b[0;34m\u001b[0m\u001b[0m\n",
            "\u001b[0;31mNameError\u001b[0m: name 'test_ds' is not defined"
          ]
        }
      ]
    },
    {
      "cell_type": "code",
      "source": [
        "TF_LITE_MODEL_FILE_NAME = \"tf_lite_model_opt.tflite\""
      ],
      "metadata": {
        "id": "2rYbSvQojVCj"
      },
      "execution_count": 8,
      "outputs": []
    },
    {
      "cell_type": "code",
      "source": [
        "tf_lite_converter = tf.lite.TFLiteConverter.from_keras_model(model_efficientnet_1)"
      ],
      "metadata": {
        "id": "R9bcTo3ljceo"
      },
      "execution_count": 9,
      "outputs": []
    },
    {
      "cell_type": "code",
      "source": [
        "### Optimized for low MB\n",
        "tf_lite_converter.optimizations=[tf.lite.Optimize.DEFAULT]"
      ],
      "metadata": {
        "id": "KLJCXu88xjgE"
      },
      "execution_count": 10,
      "outputs": []
    },
    {
      "cell_type": "code",
      "source": [
        "tflite_model = tf_lite_converter.convert()"
      ],
      "metadata": {
        "colab": {
          "base_uri": "https://localhost:8080/"
        },
        "id": "wKYQeh_nxj1g",
        "outputId": "743be0d9-0f1a-4e43-9c6f-cc54e4ce336f"
      },
      "execution_count": 11,
      "outputs": [
        {
          "output_type": "stream",
          "name": "stderr",
          "text": [
            "WARNING:absl:Found untraced functions such as _jit_compiled_convolution_op, _jit_compiled_convolution_op, _jit_compiled_convolution_op, _jit_compiled_convolution_op, _jit_compiled_convolution_op while saving (showing 5 of 273). These functions will not be directly callable after loading.\n"
          ]
        }
      ]
    },
    {
      "cell_type": "code",
      "source": [
        "tflite_model_name = TF_LITE_MODEL_FILE_NAME\n",
        "open(tflite_model_name, \"wb\").write(tflite_model)"
      ],
      "metadata": {
        "colab": {
          "base_uri": "https://localhost:8080/"
        },
        "id": "04lVXSUTjeO4",
        "outputId": "151a0e75-d551-4725-faad-9dca3ce529a5"
      },
      "execution_count": 12,
      "outputs": [
        {
          "output_type": "execute_result",
          "data": {
            "text/plain": [
              "67418808"
            ]
          },
          "metadata": {},
          "execution_count": 12
        }
      ]
    },
    {
      "cell_type": "code",
      "source": [
        "interpreter = tf.lite.Interpreter(model_path = TF_LITE_MODEL_FILE_NAME)\n",
        "input_details = interpreter.get_input_details()\n",
        "output_details = interpreter.get_output_details()\n",
        "print(\"Input Shape:\", input_details[0]['shape'])\n",
        "print(\"Input Type:\", input_details[0]['dtype'])\n",
        "print(\"Output Shape:\", output_details[0]['shape'])\n",
        "print(\"Output Type:\", output_details[0]['dtype'])"
      ],
      "metadata": {
        "colab": {
          "base_uri": "https://localhost:8080/"
        },
        "id": "Ob8ZhHSsqeYN",
        "outputId": "2e87c5c2-fbb9-4fe5-c495-bdaec11152ea"
      },
      "execution_count": 20,
      "outputs": [
        {
          "output_type": "stream",
          "name": "stdout",
          "text": [
            "Input Shape: [  1 224 224   3]\n",
            "Input Type: <class 'numpy.float32'>\n",
            "Output Shape: [ 1 11]\n",
            "Output Type: <class 'numpy.float32'>\n"
          ]
        }
      ]
    },
    {
      "cell_type": "code",
      "source": [
        "interpreter.resize_tensor_input(input_details[0]['index'], (1, 224, 224,3))\n",
        "interpreter.resize_tensor_input(output_details[0]['index'], (1, 11))\n",
        "interpreter.allocate_tensors()\n",
        "input_details = interpreter.get_input_details()\n",
        "output_details = interpreter.get_output_details()\n",
        "print(\"Input Shape:\", input_details[0]['shape'])\n",
        "print(\"Input Type:\", input_details[0]['dtype'])\n",
        "print(\"Output Shape:\", output_details[0]['shape'])\n",
        "print(\"Output Type:\", output_details[0]['dtype'])"
      ],
      "metadata": {
        "colab": {
          "base_uri": "https://localhost:8080/"
        },
        "id": "bVBANGT1qepG",
        "outputId": "daf955e6-64c2-4402-eb79-c3a958a21013"
      },
      "execution_count": 27,
      "outputs": [
        {
          "output_type": "stream",
          "name": "stdout",
          "text": [
            "Input Shape: [  1 224 224   3]\n",
            "Input Type: <class 'numpy.float32'>\n",
            "Output Shape: [ 1 11]\n",
            "Output Type: <class 'numpy.float32'>\n"
          ]
        }
      ]
    }
  ]
}